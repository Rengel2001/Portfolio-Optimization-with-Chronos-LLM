{
  "nbformat": 4,
  "nbformat_minor": 0,
  "metadata": {
    "colab": {
      "provenance": []
    },
    "kernelspec": {
      "name": "python3",
      "display_name": "Python 3"
    },
    "language_info": {
      "name": "python"
    }
  },
  "cells": [
    {
      "cell_type": "code",
      "execution_count": 132,
      "metadata": {
        "id": "4T8NDmej2H3v"
      },
      "outputs": [],
      "source": [
        "import yfinance as yf\n",
        "import pandas as pd\n",
        "import matplotlib.pyplot as plt\n",
        "import numpy as np\n",
        "import statsmodels.api as sm"
      ]
    },
    {
      "cell_type": "markdown",
      "source": [
        "# **Function for Max Drawdown Calculation (in % and in days)**"
      ],
      "metadata": {
        "id": "sxfbRKlJ2EWS"
      }
    },
    {
      "cell_type": "code",
      "source": [
        "def calculate_max_drawdown_and_duration(monthly_returns):\n",
        "    \"\"\"\n",
        "    Calculate the maximum drawdown (in percentage) and the longest drawdown duration (in days).\n",
        "\n",
        "    Parameters:\n",
        "    - monthly_returns (list or array-like): A list of monthly portfolio returns.\n",
        "\n",
        "    Returns:\n",
        "    - max_drawdown (float): The maximum drawdown as a percentage.\n",
        "    - longest_drawdown_days (float): The longest drawdown duration in days.\n",
        "    \"\"\"\n",
        "    # Convert monthly returns to a pandas Series\n",
        "    returns_series = pd.Series(monthly_returns)\n",
        "\n",
        "    # Calculate the cumulative returns\n",
        "    cumulative_returns = (1 + returns_series).cumprod()\n",
        "\n",
        "    # Calculate the rolling maximum of the cumulative returns\n",
        "    rolling_max = cumulative_returns.cummax()\n",
        "\n",
        "    # Calculate drawdowns\n",
        "    drawdowns = (cumulative_returns / rolling_max) - 1\n",
        "\n",
        "    # Maximum drawdown\n",
        "    max_drawdown = drawdowns.min()\n",
        "\n",
        "    # Identify the longest drawdown duration\n",
        "    drawdown_periods = drawdowns[drawdowns < 0]  # Filter periods with drawdowns\n",
        "    longest_drawdown_months = 0\n",
        "    current_duration = 0\n",
        "\n",
        "    for i in range(len(drawdowns)):\n",
        "        if drawdowns[i] < 0:\n",
        "            current_duration += 1\n",
        "            longest_drawdown_months = max(longest_drawdown_months, current_duration)\n",
        "        else:\n",
        "            current_duration = 0\n",
        "\n",
        "    # Convert months to days (average of 30.44 days per month)\n",
        "    longest_drawdown_days = longest_drawdown_months * 30.44\n",
        "\n",
        "    return max_drawdown, longest_drawdown_days\n"
      ],
      "metadata": {
        "id": "uG153ekey7fL"
      },
      "execution_count": 141,
      "outputs": []
    },
    {
      "cell_type": "code",
      "source": [
        "# Load data\n",
        "SPY_DATA = pd.read_csv(\"backtest_long_only.csv\")\n",
        "EWP_DATA = pd.read_csv(\"backtest_EWP.csv\")\n",
        "LONG_ONLY_DATA = pd.read_csv(\"backtest_long_only.csv\")\n",
        "LONG_SHORT_DATA = pd.read_csv(\"backtest_long_short.csv\")"
      ],
      "metadata": {
        "id": "NKdTc7cMPFeD"
      },
      "execution_count": 142,
      "outputs": []
    },
    {
      "cell_type": "markdown",
      "source": [
        "# **SPY Benchmark Portfolio**"
      ],
      "metadata": {
        "id": "zHbFW_Mv3Baf"
      }
    },
    {
      "cell_type": "code",
      "source": [
        "BM_daily_rets = LONG_ONLY_DATA[\"SPY_Returns\"]\n",
        "BM_daily_vol = np.sqrt(np.var(BM_daily_rets))\n",
        "\n",
        "BM_annual_vol = BM_daily_vol*np.sqrt(12)\n",
        "\n",
        "BM_Cum_Return = ((BM_daily_rets+np.ones(len(BM_daily_rets))).prod()-1)\n",
        "BM_Annualized_Return = ((BM_daily_rets+np.ones(len(BM_daily_rets))).prod()**(12/len(BM_daily_rets))-1)\n",
        "\n",
        "rf = 0 # risk-free rate assumed to be zero\n",
        "\n",
        "BM_Sharpe_Ratio = (BM_Annualized_Return - rf) / BM_annual_vol\n",
        "\n",
        "BM_max_drawdown, BM_longest_drawdown_days = calculate_max_drawdown_and_duration(BM_daily_rets)\n",
        "\n",
        "print(\"SPY Annualized Volatility: \", round(BM_annual_vol*100,3), \"%\")\n",
        "print(\"SPY Cumulative Returns: \", round(BM_Cum_Return*100,3), \"%\")\n",
        "print(\"SPY Annualized Return: \", round(BM_Annualized_Return*100,3), \"%\")\n",
        "print(\"SPY Sharpe Ratio: \", round(BM_Sharpe_Ratio,2))\n",
        "print(f\"SPY Maximum Drawdown: {BM_max_drawdown:.2f}%\")\n",
        "print(f\"SPY Longest Drawdown Duration: {BM_longest_drawdown_days:.0f} days\")\n",
        "print(\"SPY Beta: \", 1)\n",
        "print(\"SPY Alpha: \", 0.00, \"%\")"
      ],
      "metadata": {
        "colab": {
          "base_uri": "https://localhost:8080/"
        },
        "id": "He2bS5DR3Hm-",
        "outputId": "3a385759-d19f-490c-e30a-5bf72531cb8a"
      },
      "execution_count": 143,
      "outputs": [
        {
          "output_type": "stream",
          "name": "stdout",
          "text": [
            "SPY Annualized Volatility:  15.422 %\n",
            "SPY Cumulative Returns:  270.533 %\n",
            "SPY Annualized Return:  5.491 %\n",
            "SPY Sharpe Ratio:  0.36\n",
            "SPY Maximum Drawdown: -0.52%\n",
            "SPY Longest Drawdown Duration: 2435 days\n",
            "SPY Beta:  1\n",
            "SPY Alpha:  0.0 %\n"
          ]
        }
      ]
    },
    {
      "cell_type": "markdown",
      "source": [
        "# **Equal Weight Portfolio**"
      ],
      "metadata": {
        "id": "JTeGDAo9nXP7"
      }
    },
    {
      "cell_type": "code",
      "source": [
        "EWP_daily_rets = EWP_DATA[\"EQ_Returns\"]\n",
        "EWP_daily_vol = np.sqrt(np.var(EWP_daily_rets))\n",
        "\n",
        "EWP_annual_vol = EWP_daily_vol*np.sqrt(12)\n",
        "\n",
        "EWP_Cum_Return = ((EWP_daily_rets+np.ones(len(EWP_daily_rets))).prod()-1)\n",
        "EWP_Annualized_Return = ((EWP_daily_rets+np.ones(len(EWP_daily_rets))).prod()**(12/len(EWP_daily_rets))-1)\n",
        "\n",
        "rf = 0 # risk-free rate assumed to be zero\n",
        "\n",
        "EWP_Sharpe_Ratio = (EWP_Annualized_Return - rf) / EWP_annual_vol\n",
        "\n",
        "EWP_max_drawdown, EWP_longest_drawdown_days = calculate_max_drawdown_and_duration(EWP_daily_rets)\n",
        "\n",
        "data_EWP = {'SPY': BM_daily_rets,\n",
        "            'EWP': EWP_daily_rets}\n",
        "df_EWP = pd.DataFrame(data_EWP)\n",
        "X_EWP = sm.add_constant(df_EWP[['SPY']])\n",
        "Y_EWP = df_EWP['EWP']\n",
        "model_EWP = sm.OLS(Y_EWP, X_EWP).fit()\n",
        "beta_EWP = model_EWP.params['SPY']\n",
        "alpha_EWP = model_EWP.params['const']\n",
        "\n",
        "\n",
        "print(\"EWP Annualized Volatility: \", round(EWP_annual_vol*100,3), \"%\")\n",
        "print(\"EWP Cumulative Returns: \", round(EWP_Cum_Return*100,3), \"%\")\n",
        "print(\"EWP Annualized Return: \", round(EWP_Annualized_Return*100,3), \"%\")\n",
        "print(\"EWP Sharpe Ratio: \", round(EWP_Sharpe_Ratio,2))\n",
        "print(f\"EWP Maximum Drawdown: {EWP_max_drawdown:.2f}%\")\n",
        "print(f\"EWP Longest Drawdown Duration: {EWP_longest_drawdown_days:.0f} days\")\n",
        "print(\"EWP Beta: \", round(beta_EWP,2))\n",
        "print(\"EWP Alpha: \", round(alpha_EWP*100,2), \"%\")"
      ],
      "metadata": {
        "colab": {
          "base_uri": "https://localhost:8080/"
        },
        "id": "dHxhqYYCVVdx",
        "outputId": "8b9cec53-b63e-4d13-efb3-fe411e4abeca"
      },
      "execution_count": 144,
      "outputs": [
        {
          "output_type": "stream",
          "name": "stdout",
          "text": [
            "EWP Annualized Volatility:  14.511 %\n",
            "EWP Cumulative Returns:  179.675 %\n",
            "EWP Annualized Return:  4.287 %\n",
            "EWP Sharpe Ratio:  0.3\n",
            "EWP Maximum Drawdown: -0.45%\n",
            "EWP Longest Drawdown Duration: 1522 days\n",
            "EWP Beta:  0.88\n",
            "EWP Alpha:  -0.04 %\n"
          ]
        }
      ]
    },
    {
      "cell_type": "markdown",
      "source": [
        "# **Long Only Portfolio**"
      ],
      "metadata": {
        "id": "2_2FSVLA005L"
      }
    },
    {
      "cell_type": "code",
      "source": [
        "LO_daily_rets = LONG_ONLY_DATA[\"Strategy_Returns\"]\n",
        "LO_daily_vol = np.sqrt(np.var(LO_daily_rets))\n",
        "\n",
        "LO_annual_vol = LO_daily_vol*np.sqrt(12)\n",
        "\n",
        "LO_Cum_Return = ((LO_daily_rets+np.ones(len(LO_daily_rets))).prod()-1)\n",
        "LO_Annualized_Return = ((LO_daily_rets+np.ones(len(LO_daily_rets))).prod()**(12/len(LO_daily_rets))-1)\n",
        "\n",
        "rf = 0 # risk-free rate assumed to be zero\n",
        "\n",
        "LO_Sharpe_Ratio = (LO_Annualized_Return - rf) / LO_annual_vol\n",
        "\n",
        "LO_max_drawdown, LO_longest_drawdown_days = calculate_max_drawdown_and_duration(LO_daily_rets)\n",
        "\n",
        "data_LO = {'SPY': BM_daily_rets,\n",
        "            'LO': LO_daily_rets}\n",
        "df_LO = pd.DataFrame(data_LO)\n",
        "X_LO = sm.add_constant(df_LO[['SPY']])\n",
        "Y_LO = df_LO['LO']\n",
        "model_LO = sm.OLS(Y_LO, X_LO).fit()\n",
        "beta_LO = model_LO.params['SPY']\n",
        "alpha_LO = model_LO.params['const']\n",
        "\n",
        "print(\"Long-Only Annualized Volatility: \", round(LO_annual_vol*100,3), \"%\")\n",
        "print(\"Long-Only Cumulative Returns: \", round(LO_Cum_Return*100,3), \"%\")\n",
        "print(\"Long-Only Annualized Return: \", round(LO_Annualized_Return*100,3), \"%\")\n",
        "print(\"Long-Only Sharpe Ratio: \", round(LO_Sharpe_Ratio,2))\n",
        "print(f\"Long-Only Maximum Drawdown: {LO_max_drawdown:.2f}%\")\n",
        "print(f\"Long-Only Longest Drawdown Duration: {LO_longest_drawdown_days:.0f} days\")\n",
        "print(\"Long-Only Beta: \", round(beta_LO,2))\n",
        "print(\"Long-Only Alpha: \", round(alpha_LO*100,2), \"%\")"
      ],
      "metadata": {
        "colab": {
          "base_uri": "https://localhost:8080/"
        },
        "id": "gFH4uH1KnGS0",
        "outputId": "1aacb2f5-40ad-400e-838c-3175fc1ccf44"
      },
      "execution_count": 145,
      "outputs": [
        {
          "output_type": "stream",
          "name": "stdout",
          "text": [
            "Long-Only Annualized Volatility:  19.374 %\n",
            "Long-Only Cumulative Returns:  437.964 %\n",
            "Long-Only Annualized Return:  7.109 %\n",
            "Long-Only Sharpe Ratio:  0.37\n",
            "Long-Only Maximum Drawdown: -0.47%\n",
            "Long-Only Longest Drawdown Duration: 2709 days\n",
            "Long-Only Beta:  0.64\n",
            "Long-Only Alpha:  0.38 %\n"
          ]
        }
      ]
    },
    {
      "cell_type": "markdown",
      "source": [
        "# **Long-Short Portfolio**"
      ],
      "metadata": {
        "id": "FCS0EZGX2VO9"
      }
    },
    {
      "cell_type": "code",
      "source": [
        "from re import A\n",
        "LS_daily_rets = LONG_SHORT_DATA[\"Strategy_Returns\"]\n",
        "LS_daily_vol = np.sqrt(np.var(LS_daily_rets))\n",
        "\n",
        "LS_annual_vol = LS_daily_vol*np.sqrt(12)\n",
        "\n",
        "LS_Cum_Return = ((LS_daily_rets+np.ones(len(LS_daily_rets))).prod()-1)\n",
        "LS_Annualized_Return = ((LS_daily_rets+np.ones(len(LS_daily_rets))).prod()**(12/len(LS_daily_rets))-1)\n",
        "\n",
        "rf = 0 # risk-free rate assumed to be zero\n",
        "\n",
        "LS_Sharpe_Ratio = (LS_Annualized_Return - rf) / LS_annual_vol\n",
        "\n",
        "LS_max_drawdown, LS_longest_drawdown_days = calculate_max_drawdown_and_duration(LS_daily_rets)\n",
        "\n",
        "data_LS = {'SPY': BM_daily_rets,\n",
        "            'LS': LS_daily_rets}\n",
        "df_LS = pd.DataFrame(data_LS)\n",
        "X_LS = sm.add_constant(df_LS[['SPY']])\n",
        "Y_LS = df_LS['LS']\n",
        "model_LS = sm.OLS(Y_LS, X_LS).fit()\n",
        "beta_LS = model_LS.params['SPY']\n",
        "alpha_LS = model_LS.params['const']\n",
        "\n",
        "print(\"Long-Short Annualized Volatility: \", round(LS_annual_vol*100,3), \"%\")\n",
        "print(\"Long-Short Cumulative Returns: \", round(LS_Cum_Return*100,3), \"%\")\n",
        "print(\"Long-Short Annualized Return: \", round(LS_Annualized_Return*100,3), \"%\")\n",
        "print(\"Long-Short Sharpe Ratio: \", round(LS_Sharpe_Ratio,2))\n",
        "print(f\"Long-Short Maximum Drawdown: {LS_max_drawdown:.2f}%\")\n",
        "print(f\"Long-Short Longest Drawdown Duration: {LS_longest_drawdown_days:.0f} days\")\n",
        "print(\"Long-Short Beta: \", round(beta_LS,2))\n",
        "print(\"Long-Short Alpha: \", round(alpha_LS*100,2), \"%\")"
      ],
      "metadata": {
        "colab": {
          "base_uri": "https://localhost:8080/"
        },
        "id": "-MoGDpxM1r1z",
        "outputId": "248e6b3a-2f79-426c-b019-45f5db3af06e"
      },
      "execution_count": 146,
      "outputs": [
        {
          "output_type": "stream",
          "name": "stdout",
          "text": [
            "Long-Short Annualized Volatility:  17.024 %\n",
            "Long-Short Cumulative Returns:  520.939 %\n",
            "Long-Short Annualized Return:  7.738 %\n",
            "Long-Short Sharpe Ratio:  0.45\n",
            "Long-Short Maximum Drawdown: -0.56%\n",
            "Long-Short Longest Drawdown Duration: 4475 days\n",
            "Long-Short Beta:  0.17\n",
            "Long-Short Alpha:  0.65 %\n"
          ]
        }
      ]
    },
    {
      "cell_type": "markdown",
      "source": [
        "# **Now Print Everything in a Table**"
      ],
      "metadata": {
        "id": "wv01cgdP-9FM"
      }
    },
    {
      "cell_type": "code",
      "source": [
        "Table_data = {\n",
        "    'Metric': ['Cumulative Return', 'Annualized Return', 'Annualized Volatility',\n",
        "               'Sharpe Ratio', 'Maximum Drawdown', 'Longest Drawdown Duration (days)',\n",
        "               'Beta', 'Alpha'],\n",
        "\n",
        "    'SPY': [BM_Cum_Return, BM_Annualized_Return, BM_annual_vol, BM_Sharpe_Ratio, BM_max_drawdown, BM_longest_drawdown_days, 1.0, 0.0],\n",
        "    'Equal Weight Portfolio': [EWP_Cum_Return, EWP_Annualized_Return, EWP_annual_vol, EWP_Sharpe_Ratio, EWP_max_drawdown, EWP_longest_drawdown_days, beta_EWP, alpha_EWP],\n",
        "    'Long Only': [LO_Cum_Return, LO_Annualized_Return, LO_annual_vol, LO_Sharpe_Ratio, LO_max_drawdown, LO_longest_drawdown_days, beta_LO, alpha_LO],\n",
        "    'Long-Short': [LS_Cum_Return, LS_Annualized_Return, LS_annual_vol, LS_Sharpe_Ratio, LS_max_drawdown, LS_longest_drawdown_days, beta_LS, alpha_LS]\n",
        "}\n",
        "\n",
        "Table_df = pd.DataFrame(Table_data)\n",
        "Table_df.set_index('Metric', inplace=True)\n",
        "print(Table_df)"
      ],
      "metadata": {
        "colab": {
          "base_uri": "https://localhost:8080/"
        },
        "id": "GV3_UKM721k5",
        "outputId": "fd8ff4a3-2116-45cf-b189-ba81c81fa2bb"
      },
      "execution_count": 147,
      "outputs": [
        {
          "output_type": "stream",
          "name": "stdout",
          "text": [
            "                                          SPY  Equal Weight Portfolio  \\\n",
            "Metric                                                                  \n",
            "Cumulative Return                    2.705327                1.796755   \n",
            "Annualized Return                    0.054915                0.042871   \n",
            "Annualized Volatility                0.154223                0.145111   \n",
            "Sharpe Ratio                         0.356074                0.295440   \n",
            "Maximum Drawdown                    -0.521953               -0.447653   \n",
            "Longest Drawdown Duration (days)  2435.200000             1522.000000   \n",
            "Beta                                 1.000000                0.878195   \n",
            "Alpha                                0.000000               -0.000408   \n",
            "\n",
            "                                    Long Only   Long-Short  \n",
            "Metric                                                      \n",
            "Cumulative Return                    4.379639     5.209394  \n",
            "Annualized Return                    0.071092     0.077381  \n",
            "Annualized Volatility                0.193740     0.170237  \n",
            "Sharpe Ratio                         0.366944     0.454548  \n",
            "Maximum Drawdown                    -0.465239    -0.560229  \n",
            "Longest Drawdown Duration (days)  2709.160000  4474.680000  \n",
            "Beta                                 0.638757     0.174943  \n",
            "Alpha                                0.003809     0.006478  \n"
          ]
        }
      ]
    },
    {
      "cell_type": "code",
      "source": [
        "import pandas as pd\n",
        "\n",
        "# Your table data\n",
        "Table_data = {\n",
        "    'Metric': ['Cumulative Return', 'Annualized Return', 'Annualized Volatility',\n",
        "               'Sharpe Ratio', 'Maximum Drawdown', 'Longest Drawdown Duration (days)',\n",
        "               'Beta', 'Alpha'],\n",
        "\n",
        "    'SPY': [BM_Cum_Return, BM_Annualized_Return, BM_annual_vol, BM_Sharpe_Ratio, BM_max_drawdown, BM_longest_drawdown_days, 1.0, 0.0],\n",
        "    'Equal Weight Portfolio': [EWP_Cum_Return, EWP_Annualized_Return, EWP_annual_vol, EWP_Sharpe_Ratio, EWP_max_drawdown, EWP_longest_drawdown_days, beta_EWP, alpha_EWP],\n",
        "    'Long Only': [LO_Cum_Return, LO_Annualized_Return, LO_annual_vol, LO_Sharpe_Ratio, LO_max_drawdown, LO_longest_drawdown_days, beta_LO, alpha_LO],\n",
        "    'Long-Short': [LS_Cum_Return, LS_Annualized_Return, LS_annual_vol, LS_Sharpe_Ratio, LS_max_drawdown, LS_longest_drawdown_days, beta_LS, alpha_LS]\n",
        "}\n",
        "\n",
        "# Create DataFrame\n",
        "Table_df = pd.DataFrame(Table_data)\n",
        "\n",
        "# Set 'Metric' as the index\n",
        "Table_df.set_index('Metric', inplace=True)\n",
        "\n",
        "# Apply styling for visual appeal\n",
        "styled_df = Table_df.style.set_table_styles(\n",
        "    [{'selector': 'thead th', 'props': [('font-weight', 'bold'), ('text-align', 'center'),\n",
        "                                        ('background-color', 'black'), ('color', 'white')]},  # Black background, white font\n",
        "     {'selector': 'tbody td', 'props': [('text-align', 'center')]},  # Center all cell values\n",
        "     {'selector': 'table', 'props': [('border-collapse', 'collapse'), ('width', '100%')]},  # Border collapse and full-width table\n",
        "     {'selector': 'tr', 'props': [('border-bottom', '1px solid #ddd')]},  # Light borders for rows\n",
        "     {'selector': 'td', 'props': [('padding', '10px')]},  # Padding for better spacing\n",
        "    ]\n",
        ")\n",
        "\n",
        "# Display the styled table\n",
        "styled_df\n"
      ],
      "metadata": {
        "colab": {
          "base_uri": "https://localhost:8080/",
          "height": 389
        },
        "id": "EwNpWSj5_Esg",
        "outputId": "60c2459f-46f9-4af2-f9a7-ba97ddbdabc2"
      },
      "execution_count": 150,
      "outputs": [
        {
          "output_type": "execute_result",
          "data": {
            "text/plain": [
              "<pandas.io.formats.style.Styler at 0x7b4e273b46a0>"
            ],
            "text/html": [
              "<style type=\"text/css\">\n",
              "#T_6d6cc thead th {\n",
              "  font-weight: bold;\n",
              "  text-align: center;\n",
              "  background-color: black;\n",
              "  color: white;\n",
              "}\n",
              "#T_6d6cc tbody td {\n",
              "  text-align: center;\n",
              "}\n",
              "#T_6d6cc table {\n",
              "  border-collapse: collapse;\n",
              "  width: 100%;\n",
              "}\n",
              "#T_6d6cc tr {\n",
              "  border-bottom: 1px solid #ddd;\n",
              "}\n",
              "#T_6d6cc td {\n",
              "  padding: 10px;\n",
              "}\n",
              "</style>\n",
              "<table id=\"T_6d6cc\" class=\"dataframe\">\n",
              "  <thead>\n",
              "    <tr>\n",
              "      <th class=\"blank level0\" >&nbsp;</th>\n",
              "      <th id=\"T_6d6cc_level0_col0\" class=\"col_heading level0 col0\" >SPY</th>\n",
              "      <th id=\"T_6d6cc_level0_col1\" class=\"col_heading level0 col1\" >Equal Weight Portfolio</th>\n",
              "      <th id=\"T_6d6cc_level0_col2\" class=\"col_heading level0 col2\" >Long Only</th>\n",
              "      <th id=\"T_6d6cc_level0_col3\" class=\"col_heading level0 col3\" >Long-Short</th>\n",
              "    </tr>\n",
              "    <tr>\n",
              "      <th class=\"index_name level0\" >Metric</th>\n",
              "      <th class=\"blank col0\" >&nbsp;</th>\n",
              "      <th class=\"blank col1\" >&nbsp;</th>\n",
              "      <th class=\"blank col2\" >&nbsp;</th>\n",
              "      <th class=\"blank col3\" >&nbsp;</th>\n",
              "    </tr>\n",
              "  </thead>\n",
              "  <tbody>\n",
              "    <tr>\n",
              "      <th id=\"T_6d6cc_level0_row0\" class=\"row_heading level0 row0\" >Cumulative Return</th>\n",
              "      <td id=\"T_6d6cc_row0_col0\" class=\"data row0 col0\" >2.705327</td>\n",
              "      <td id=\"T_6d6cc_row0_col1\" class=\"data row0 col1\" >1.796755</td>\n",
              "      <td id=\"T_6d6cc_row0_col2\" class=\"data row0 col2\" >4.379639</td>\n",
              "      <td id=\"T_6d6cc_row0_col3\" class=\"data row0 col3\" >5.209394</td>\n",
              "    </tr>\n",
              "    <tr>\n",
              "      <th id=\"T_6d6cc_level0_row1\" class=\"row_heading level0 row1\" >Annualized Return</th>\n",
              "      <td id=\"T_6d6cc_row1_col0\" class=\"data row1 col0\" >0.054915</td>\n",
              "      <td id=\"T_6d6cc_row1_col1\" class=\"data row1 col1\" >0.042871</td>\n",
              "      <td id=\"T_6d6cc_row1_col2\" class=\"data row1 col2\" >0.071092</td>\n",
              "      <td id=\"T_6d6cc_row1_col3\" class=\"data row1 col3\" >0.077381</td>\n",
              "    </tr>\n",
              "    <tr>\n",
              "      <th id=\"T_6d6cc_level0_row2\" class=\"row_heading level0 row2\" >Annualized Volatility</th>\n",
              "      <td id=\"T_6d6cc_row2_col0\" class=\"data row2 col0\" >0.154223</td>\n",
              "      <td id=\"T_6d6cc_row2_col1\" class=\"data row2 col1\" >0.145111</td>\n",
              "      <td id=\"T_6d6cc_row2_col2\" class=\"data row2 col2\" >0.193740</td>\n",
              "      <td id=\"T_6d6cc_row2_col3\" class=\"data row2 col3\" >0.170237</td>\n",
              "    </tr>\n",
              "    <tr>\n",
              "      <th id=\"T_6d6cc_level0_row3\" class=\"row_heading level0 row3\" >Sharpe Ratio</th>\n",
              "      <td id=\"T_6d6cc_row3_col0\" class=\"data row3 col0\" >0.356074</td>\n",
              "      <td id=\"T_6d6cc_row3_col1\" class=\"data row3 col1\" >0.295440</td>\n",
              "      <td id=\"T_6d6cc_row3_col2\" class=\"data row3 col2\" >0.366944</td>\n",
              "      <td id=\"T_6d6cc_row3_col3\" class=\"data row3 col3\" >0.454548</td>\n",
              "    </tr>\n",
              "    <tr>\n",
              "      <th id=\"T_6d6cc_level0_row4\" class=\"row_heading level0 row4\" >Maximum Drawdown</th>\n",
              "      <td id=\"T_6d6cc_row4_col0\" class=\"data row4 col0\" >-0.521953</td>\n",
              "      <td id=\"T_6d6cc_row4_col1\" class=\"data row4 col1\" >-0.447653</td>\n",
              "      <td id=\"T_6d6cc_row4_col2\" class=\"data row4 col2\" >-0.465239</td>\n",
              "      <td id=\"T_6d6cc_row4_col3\" class=\"data row4 col3\" >-0.560229</td>\n",
              "    </tr>\n",
              "    <tr>\n",
              "      <th id=\"T_6d6cc_level0_row5\" class=\"row_heading level0 row5\" >Longest Drawdown Duration (days)</th>\n",
              "      <td id=\"T_6d6cc_row5_col0\" class=\"data row5 col0\" >2435.200000</td>\n",
              "      <td id=\"T_6d6cc_row5_col1\" class=\"data row5 col1\" >1522.000000</td>\n",
              "      <td id=\"T_6d6cc_row5_col2\" class=\"data row5 col2\" >2709.160000</td>\n",
              "      <td id=\"T_6d6cc_row5_col3\" class=\"data row5 col3\" >4474.680000</td>\n",
              "    </tr>\n",
              "    <tr>\n",
              "      <th id=\"T_6d6cc_level0_row6\" class=\"row_heading level0 row6\" >Beta</th>\n",
              "      <td id=\"T_6d6cc_row6_col0\" class=\"data row6 col0\" >1.000000</td>\n",
              "      <td id=\"T_6d6cc_row6_col1\" class=\"data row6 col1\" >0.878195</td>\n",
              "      <td id=\"T_6d6cc_row6_col2\" class=\"data row6 col2\" >0.638757</td>\n",
              "      <td id=\"T_6d6cc_row6_col3\" class=\"data row6 col3\" >0.174943</td>\n",
              "    </tr>\n",
              "    <tr>\n",
              "      <th id=\"T_6d6cc_level0_row7\" class=\"row_heading level0 row7\" >Alpha</th>\n",
              "      <td id=\"T_6d6cc_row7_col0\" class=\"data row7 col0\" >0.000000</td>\n",
              "      <td id=\"T_6d6cc_row7_col1\" class=\"data row7 col1\" >-0.000408</td>\n",
              "      <td id=\"T_6d6cc_row7_col2\" class=\"data row7 col2\" >0.003809</td>\n",
              "      <td id=\"T_6d6cc_row7_col3\" class=\"data row7 col3\" >0.006478</td>\n",
              "    </tr>\n",
              "  </tbody>\n",
              "</table>\n"
            ]
          },
          "metadata": {},
          "execution_count": 150
        }
      ]
    }
  ]
}